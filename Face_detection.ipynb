{
 "cells": [
  {
   "cell_type": "code",
   "execution_count": 1,
   "id": "84482d44",
   "metadata": {},
   "outputs": [],
   "source": [
    "import cv2"
   ]
  },
  {
   "cell_type": "code",
   "execution_count": 2,
   "id": "d0b99025",
   "metadata": {},
   "outputs": [],
   "source": [
    "trained_face_data=cv2.CascadeClassifier('haarcascade_frontalface_default.xml')"
   ]
  },
  {
   "cell_type": "code",
   "execution_count": 13,
   "id": "f75809cf",
   "metadata": {},
   "outputs": [
    {
     "data": {
      "text/plain": [
       "<VideoCapture 000002057D41BF30>"
      ]
     },
     "execution_count": 13,
     "metadata": {},
     "output_type": "execute_result"
    }
   ],
   "source": [
    "# choose an image to detect faces in\n",
    "#img=cv2.imread('Robert-Downey-Jr-2.jpg')\n",
    "\n"
   ]
  },
  {
   "cell_type": "code",
   "execution_count": 4,
   "id": "5a0256e4",
   "metadata": {},
   "outputs": [],
   "source": [
    "# Must convert to grayscale\n",
    "grayscaled_img=cv2.cvtColor(img,cv2.COLOR_BGR2GRAY)"
   ]
  },
  {
   "cell_type": "code",
   "execution_count": 5,
   "id": "c2c6f6bc",
   "metadata": {},
   "outputs": [],
   "source": [
    "#detect faces\n",
    "face_coordinates=trained_face_data.detectMultiScale(grayscaled_img)"
   ]
  },
  {
   "cell_type": "code",
   "execution_count": 6,
   "id": "ede782bd",
   "metadata": {},
   "outputs": [
    {
     "name": "stdout",
     "output_type": "stream",
     "text": [
      "[[327  80 279 279]\n",
      " [102 144 281 281]]\n"
     ]
    }
   ],
   "source": [
    "print(face_coordinates)"
   ]
  },
  {
   "cell_type": "code",
   "execution_count": 7,
   "id": "85333839",
   "metadata": {},
   "outputs": [
    {
     "data": {
      "text/plain": [
       "array([[[172, 128,  99],\n",
       "        [171, 127,  98],\n",
       "        [171, 127,  98],\n",
       "        ...,\n",
       "        [193, 152, 129],\n",
       "        [193, 152, 129],\n",
       "        [193, 152, 129]],\n",
       "\n",
       "       [[172, 128,  99],\n",
       "        [170, 126,  97],\n",
       "        [171, 127,  98],\n",
       "        ...,\n",
       "        [192, 151, 128],\n",
       "        [192, 151, 128],\n",
       "        [192, 151, 128]],\n",
       "\n",
       "       [[171, 127,  98],\n",
       "        [170, 126,  97],\n",
       "        [170, 126,  97],\n",
       "        ...,\n",
       "        [193, 152, 127],\n",
       "        [193, 152, 127],\n",
       "        [193, 152, 127]],\n",
       "\n",
       "       ...,\n",
       "\n",
       "       [[115,  81,  57],\n",
       "        [103,  71,  48],\n",
       "        [ 88,  59,  38],\n",
       "        ...,\n",
       "        [183, 156, 136],\n",
       "        [184, 154, 135],\n",
       "        [183, 153, 134]],\n",
       "\n",
       "       [[ 86,  56,  39],\n",
       "        [ 74,  45,  30],\n",
       "        [ 58,  32,  18],\n",
       "        ...,\n",
       "        [184, 157, 137],\n",
       "        [183, 156, 136],\n",
       "        [182, 155, 135]],\n",
       "\n",
       "       [[ 62,  35,  21],\n",
       "        [ 53,  27,  13],\n",
       "        [ 42,  17,   7],\n",
       "        ...,\n",
       "        [185, 158, 138],\n",
       "        [184, 157, 137],\n",
       "        [182, 155, 135]]], dtype=uint8)"
      ]
     },
     "execution_count": 7,
     "metadata": {},
     "output_type": "execute_result"
    }
   ],
   "source": [
    "# Draw rectangles around the faces\n",
    "(x,y,w,h)=face_coordinates[0]\n",
    "cv2.rectangle(img,(x,y),(x+w,y+h), (0,255,0),2)"
   ]
  },
  {
   "cell_type": "code",
   "execution_count": 10,
   "id": "ae890c00",
   "metadata": {},
   "outputs": [
    {
     "ename": "AttributeError",
     "evalue": "module 'cv2.cv2' has no attribute 'waitkey'",
     "output_type": "error",
     "traceback": [
      "\u001b[1;31m---------------------------------------------------------------------------\u001b[0m",
      "\u001b[1;31mAttributeError\u001b[0m                            Traceback (most recent call last)",
      "\u001b[1;32m<ipython-input-10-cec877d1b13e>\u001b[0m in \u001b[0;36m<module>\u001b[1;34m\u001b[0m\n\u001b[0;32m      1\u001b[0m \u001b[0mcv2\u001b[0m\u001b[1;33m.\u001b[0m\u001b[0mimshow\u001b[0m\u001b[1;33m(\u001b[0m\u001b[1;34m'Clever Programmer Face Detector'\u001b[0m\u001b[1;33m,\u001b[0m\u001b[0mimg\u001b[0m\u001b[1;33m)\u001b[0m\u001b[1;33m\u001b[0m\u001b[1;33m\u001b[0m\u001b[0m\n\u001b[1;32m----> 2\u001b[1;33m \u001b[0mcv2\u001b[0m\u001b[1;33m.\u001b[0m\u001b[0mwaitkey\u001b[0m\u001b[1;33m(\u001b[0m\u001b[1;33m)\u001b[0m\u001b[1;33m\u001b[0m\u001b[1;33m\u001b[0m\u001b[0m\n\u001b[0m",
      "\u001b[1;31mAttributeError\u001b[0m: module 'cv2.cv2' has no attribute 'waitkey'"
     ]
    }
   ],
   "source": [
    "cv2.imshow('Clever Programmer Face Detector',img)\n",
    "cv2.waitkey()"
   ]
  },
  {
   "cell_type": "markdown",
   "id": "875282e2",
   "metadata": {},
   "source": [
    "## Face detection in Real Time"
   ]
  },
  {
   "cell_type": "code",
   "execution_count": null,
   "id": "22ffab60",
   "metadata": {},
   "outputs": [],
   "source": [
    "#To capture video from webcam\n",
    "webcam=cv2.VideoCapture(0)"
   ]
  },
  {
   "cell_type": "code",
   "execution_count": null,
   "id": "dbb2c2ce",
   "metadata": {},
   "outputs": [],
   "source": []
  }
 ],
 "metadata": {
  "kernelspec": {
   "display_name": "Python 3",
   "language": "python",
   "name": "python3"
  },
  "language_info": {
   "codemirror_mode": {
    "name": "ipython",
    "version": 3
   },
   "file_extension": ".py",
   "mimetype": "text/x-python",
   "name": "python",
   "nbconvert_exporter": "python",
   "pygments_lexer": "ipython3",
   "version": "3.8.8"
  }
 },
 "nbformat": 4,
 "nbformat_minor": 5
}
